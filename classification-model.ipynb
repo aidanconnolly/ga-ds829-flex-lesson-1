{
 "cells": [
  {
   "cell_type": "markdown",
   "id": "91e8dbc3",
   "metadata": {},
   "source": [
    "<img src=\"http://imgur.com/1ZcRyrc.png\" style=\"float: left; margin: 20px; height: 55px\">\n",
    "\n",
    "# Building a Classification Model from Scratch"
   ]
  },
  {
   "cell_type": "code",
   "execution_count": 1,
   "id": "30ab4bb2",
   "metadata": {},
   "outputs": [],
   "source": [
    "# Import Packaages\n",
    "import pandas as pd\n",
    "from sklearn.ensemble import RandomForestClassifier\n",
    "from sklearn.model_selection import GridSearchCV, RandomizedSearchCV\n",
    "from sklearn.metrics import classification_report, confusion_matrix, roc_curve"
   ]
  },
  {
   "cell_type": "markdown",
   "id": "70befe40",
   "metadata": {},
   "source": [
    "### Data Dictionary\n",
    "\n",
    "| Variable | Definition | Key |\n",
    "| -- | -- | -- |\n",
    "| survival | Survival                                   | 0 = No, 1 = Yes           |\n",
    "| pclass   | Ticket class                               | 1 = 1st, 2 = 2nd, 3 = 3rd |\n",
    "| sex      | Sex                                        ||\n",
    "| Age      | Age in years                               ||\n",
    "| sibsp\t   | # of siblings / spouses aboard the Titanic\t||\n",
    "| parch    | # of parents / children aboard the Titanic ||\n",
    "| ticket   | Ticket number                              ||\n",
    "| fare     | Passenger fare                             ||\n",
    "| cabin    | Cabin number                               ||\n",
    "| embarked | Port of Embarkation                        | C = Cherbourg, Q = Queenstown, S = Southampton |\n",
    "\n",
    "### Variable Notes\n",
    "**pclass:** A proxy for socio-economic status (SES)\n",
    "- 1st = Upper\n",
    "- 2nd = Middle\n",
    "- 3rd = Lower\n",
    "\n",
    "**age:** Age is fractional if less than 1. If the age is estimated, is it in the form of xx.5\n",
    "\n",
    "**sibsp:** The dataset defines family relations in this way...\n",
    "- Sibling = brother, sister, stepbrother, stepsister\n",
    "- Spouse = husband, wife (mistresses and fiancés were ignored)\n",
    "\n",
    "**parch:** The dataset defines family relations in this way...\n",
    "- Parent = mother, father\n",
    "- Child = daughter, son, stepdaughter, stepson\n",
    "Some children travelled only with a nanny, therefore parch=0 for them."
   ]
  },
  {
   "cell_type": "code",
   "execution_count": null,
   "id": "bfa15e6c",
   "metadata": {},
   "outputs": [],
   "source": [
    "# Examining the titanic dataset \n",
    "titanic = pd.read_csv('titanic.csv')"
   ]
  },
  {
   "cell_type": "code",
   "execution_count": null,
   "id": "a7fe346f",
   "metadata": {},
   "outputs": [],
   "source": [
    "# Conduct some EDA- do we have any missing data?"
   ]
  },
  {
   "cell_type": "code",
   "execution_count": null,
   "id": "e941e504",
   "metadata": {},
   "outputs": [],
   "source": [
    "# Create a function to build a model and return the model test accuracy"
   ]
  },
  {
   "cell_type": "code",
   "execution_count": null,
   "id": "24e8d3c4",
   "metadata": {},
   "outputs": [],
   "source": [
    "# What is the null accuracy?"
   ]
  },
  {
   "cell_type": "code",
   "execution_count": null,
   "id": "e9a4ecb9",
   "metadata": {},
   "outputs": [],
   "source": [
    "# Select the best features for the model"
   ]
  },
  {
   "cell_type": "code",
   "execution_count": null,
   "id": "73352b03",
   "metadata": {},
   "outputs": [],
   "source": [
    "# Display the Confusion Matrix"
   ]
  },
  {
   "cell_type": "code",
   "execution_count": null,
   "id": "01333321",
   "metadata": {},
   "outputs": [],
   "source": [
    "# Display the classification report"
   ]
  },
  {
   "cell_type": "code",
   "execution_count": null,
   "id": "f5070cd4",
   "metadata": {},
   "outputs": [],
   "source": [
    "# Plot the ROC curve"
   ]
  },
  {
   "cell_type": "code",
   "execution_count": null,
   "id": "a8d63a0d",
   "metadata": {},
   "outputs": [],
   "source": [
    "# Let's do some huperparameter tuning "
   ]
  }
 ],
 "metadata": {
  "kernelspec": {
   "display_name": "Python 3 (ipykernel)",
   "language": "python",
   "name": "python3"
  },
  "language_info": {
   "codemirror_mode": {
    "name": "ipython",
    "version": 3
   },
   "file_extension": ".py",
   "mimetype": "text/x-python",
   "name": "python",
   "nbconvert_exporter": "python",
   "pygments_lexer": "ipython3",
   "version": "3.9.12"
  }
 },
 "nbformat": 4,
 "nbformat_minor": 5
}
